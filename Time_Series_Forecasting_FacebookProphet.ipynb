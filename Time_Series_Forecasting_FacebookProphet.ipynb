{
  "nbformat": 4,
  "nbformat_minor": 0,
  "metadata": {
    "colab": {
      "name": "Time Series Forecasting-FacebookProphet.ipynb",
      "provenance": [],
      "collapsed_sections": []
    },
    "kernelspec": {
      "name": "python3",
      "display_name": "Python 3"
    },
    "language_info": {
      "name": "python"
    }
  },
  "cells": [
    {
      "cell_type": "code",
      "metadata": {
        "colab": {
          "base_uri": "https://localhost:8080/"
        },
        "id": "UsiTcUwuIX-9",
        "outputId": "e4b35f8f-1448-45f5-a877-892172f28cc5"
      },
      "source": [
        "!pip install pystan fbprophet"
      ],
      "execution_count": 1,
      "outputs": [
        {
          "output_type": "stream",
          "name": "stdout",
          "text": [
            "Requirement already satisfied: pystan in /usr/local/lib/python3.7/dist-packages (2.19.1.1)\n",
            "Requirement already satisfied: fbprophet in /usr/local/lib/python3.7/dist-packages (0.7.1)\n",
            "Requirement already satisfied: Cython!=0.25.1,>=0.22 in /usr/local/lib/python3.7/dist-packages (from pystan) (0.29.24)\n",
            "Requirement already satisfied: numpy>=1.7 in /usr/local/lib/python3.7/dist-packages (from pystan) (1.19.5)\n",
            "Requirement already satisfied: cmdstanpy==0.9.5 in /usr/local/lib/python3.7/dist-packages (from fbprophet) (0.9.5)\n",
            "Requirement already satisfied: pandas>=1.0.4 in /usr/local/lib/python3.7/dist-packages (from fbprophet) (1.1.5)\n",
            "Requirement already satisfied: matplotlib>=2.0.0 in /usr/local/lib/python3.7/dist-packages (from fbprophet) (3.2.2)\n",
            "Requirement already satisfied: LunarCalendar>=0.0.9 in /usr/local/lib/python3.7/dist-packages (from fbprophet) (0.0.9)\n",
            "Requirement already satisfied: convertdate>=2.1.2 in /usr/local/lib/python3.7/dist-packages (from fbprophet) (2.3.2)\n",
            "Requirement already satisfied: holidays>=0.10.2 in /usr/local/lib/python3.7/dist-packages (from fbprophet) (0.10.5.2)\n",
            "Requirement already satisfied: setuptools-git>=1.2 in /usr/local/lib/python3.7/dist-packages (from fbprophet) (1.2)\n",
            "Requirement already satisfied: python-dateutil>=2.8.0 in /usr/local/lib/python3.7/dist-packages (from fbprophet) (2.8.2)\n",
            "Requirement already satisfied: tqdm>=4.36.1 in /usr/local/lib/python3.7/dist-packages (from fbprophet) (4.62.0)\n",
            "Requirement already satisfied: pymeeus<=1,>=0.3.13 in /usr/local/lib/python3.7/dist-packages (from convertdate>=2.1.2->fbprophet) (0.5.11)\n",
            "Requirement already satisfied: pytz>=2014.10 in /usr/local/lib/python3.7/dist-packages (from convertdate>=2.1.2->fbprophet) (2018.9)\n",
            "Requirement already satisfied: six in /usr/local/lib/python3.7/dist-packages (from holidays>=0.10.2->fbprophet) (1.15.0)\n",
            "Requirement already satisfied: hijri-converter in /usr/local/lib/python3.7/dist-packages (from holidays>=0.10.2->fbprophet) (2.1.3)\n",
            "Requirement already satisfied: korean-lunar-calendar in /usr/local/lib/python3.7/dist-packages (from holidays>=0.10.2->fbprophet) (0.2.1)\n",
            "Requirement already satisfied: ephem>=3.7.5.3 in /usr/local/lib/python3.7/dist-packages (from LunarCalendar>=0.0.9->fbprophet) (4.0.0.2)\n",
            "Requirement already satisfied: kiwisolver>=1.0.1 in /usr/local/lib/python3.7/dist-packages (from matplotlib>=2.0.0->fbprophet) (1.3.1)\n",
            "Requirement already satisfied: cycler>=0.10 in /usr/local/lib/python3.7/dist-packages (from matplotlib>=2.0.0->fbprophet) (0.10.0)\n",
            "Requirement already satisfied: pyparsing!=2.0.4,!=2.1.2,!=2.1.6,>=2.0.1 in /usr/local/lib/python3.7/dist-packages (from matplotlib>=2.0.0->fbprophet) (2.4.7)\n"
          ]
        }
      ]
    },
    {
      "cell_type": "code",
      "metadata": {
        "id": "vkBu_xK1I6l9"
      },
      "source": [
        "# Ignore warnings \n",
        "import warnings\n",
        "warnings.simplefilter('ignore')"
      ],
      "execution_count": 2,
      "outputs": []
    },
    {
      "cell_type": "code",
      "metadata": {
        "id": "BJAwZy9oJB8_"
      },
      "source": [
        "# Import dependencies\n",
        "import pandas as pd\n",
        "from fbprophet import Prophet"
      ],
      "execution_count": 3,
      "outputs": []
    },
    {
      "cell_type": "code",
      "metadata": {
        "id": "YjEv7wcoJB_B"
      },
      "source": [
        "# Read in data\n",
        "df = pd.read_csv('dataset.csv')"
      ],
      "execution_count": 4,
      "outputs": []
    },
    {
      "cell_type": "code",
      "metadata": {
        "colab": {
          "base_uri": "https://localhost:8080/",
          "height": 205
        },
        "id": "Cf-gUc8OJCA3",
        "outputId": "ef9d6f9b-a732-4cad-a4ff-58a0d2a2e762"
      },
      "source": [
        "df.head()"
      ],
      "execution_count": 5,
      "outputs": [
        {
          "output_type": "execute_result",
          "data": {
            "text/html": [
              "<div>\n",
              "<style scoped>\n",
              "    .dataframe tbody tr th:only-of-type {\n",
              "        vertical-align: middle;\n",
              "    }\n",
              "\n",
              "    .dataframe tbody tr th {\n",
              "        vertical-align: top;\n",
              "    }\n",
              "\n",
              "    .dataframe thead th {\n",
              "        text-align: right;\n",
              "    }\n",
              "</style>\n",
              "<table border=\"1\" class=\"dataframe\">\n",
              "  <thead>\n",
              "    <tr style=\"text-align: right;\">\n",
              "      <th></th>\n",
              "      <th>Time Date</th>\n",
              "      <th>Product</th>\n",
              "      <th>Store</th>\n",
              "      <th>Value</th>\n",
              "    </tr>\n",
              "  </thead>\n",
              "  <tbody>\n",
              "    <tr>\n",
              "      <th>0</th>\n",
              "      <td>1012018</td>\n",
              "      <td>2667437</td>\n",
              "      <td>QLD_CW_ST0203</td>\n",
              "      <td>2926.000</td>\n",
              "    </tr>\n",
              "    <tr>\n",
              "      <th>1</th>\n",
              "      <td>2012018</td>\n",
              "      <td>2667437</td>\n",
              "      <td>QLD_CW_ST0203</td>\n",
              "      <td>2687.531</td>\n",
              "    </tr>\n",
              "    <tr>\n",
              "      <th>2</th>\n",
              "      <td>3012018</td>\n",
              "      <td>2667437</td>\n",
              "      <td>QLD_CW_ST0203</td>\n",
              "      <td>2793.000</td>\n",
              "    </tr>\n",
              "    <tr>\n",
              "      <th>3</th>\n",
              "      <td>4012018</td>\n",
              "      <td>2667437</td>\n",
              "      <td>QLD_CW_ST0203</td>\n",
              "      <td>2394.000</td>\n",
              "    </tr>\n",
              "    <tr>\n",
              "      <th>4</th>\n",
              "      <td>5012018</td>\n",
              "      <td>2667437</td>\n",
              "      <td>QLD_CW_ST0203</td>\n",
              "      <td>2660.000</td>\n",
              "    </tr>\n",
              "  </tbody>\n",
              "</table>\n",
              "</div>"
            ],
            "text/plain": [
              "   Time Date  Product          Store     Value\n",
              "0    1012018  2667437  QLD_CW_ST0203  2926.000\n",
              "1    2012018  2667437  QLD_CW_ST0203  2687.531\n",
              "2    3012018  2667437  QLD_CW_ST0203  2793.000\n",
              "3    4012018  2667437  QLD_CW_ST0203  2394.000\n",
              "4    5012018  2667437  QLD_CW_ST0203  2660.000"
            ]
          },
          "metadata": {},
          "execution_count": 5
        }
      ]
    },
    {
      "cell_type": "code",
      "metadata": {
        "colab": {
          "base_uri": "https://localhost:8080/",
          "height": 299
        },
        "id": "MaVYXfwzJCC-",
        "outputId": "714ba297-dacd-47a0-8c4b-50b4f2a3cf1a"
      },
      "source": [
        "df.describe()"
      ],
      "execution_count": 6,
      "outputs": [
        {
          "output_type": "execute_result",
          "data": {
            "text/html": [
              "<div>\n",
              "<style scoped>\n",
              "    .dataframe tbody tr th:only-of-type {\n",
              "        vertical-align: middle;\n",
              "    }\n",
              "\n",
              "    .dataframe tbody tr th {\n",
              "        vertical-align: top;\n",
              "    }\n",
              "\n",
              "    .dataframe thead th {\n",
              "        text-align: right;\n",
              "    }\n",
              "</style>\n",
              "<table border=\"1\" class=\"dataframe\">\n",
              "  <thead>\n",
              "    <tr style=\"text-align: right;\">\n",
              "      <th></th>\n",
              "      <th>Time Date</th>\n",
              "      <th>Product</th>\n",
              "      <th>Value</th>\n",
              "    </tr>\n",
              "  </thead>\n",
              "  <tbody>\n",
              "    <tr>\n",
              "      <th>count</th>\n",
              "      <td>1.080000e+03</td>\n",
              "      <td>1080.0</td>\n",
              "      <td>1080.000000</td>\n",
              "    </tr>\n",
              "    <tr>\n",
              "      <th>mean</th>\n",
              "      <td>1.567207e+07</td>\n",
              "      <td>2667437.0</td>\n",
              "      <td>4048.117478</td>\n",
              "    </tr>\n",
              "    <tr>\n",
              "      <th>std</th>\n",
              "      <td>8.791548e+06</td>\n",
              "      <td>0.0</td>\n",
              "      <td>1439.945783</td>\n",
              "    </tr>\n",
              "    <tr>\n",
              "      <th>min</th>\n",
              "      <td>1.012018e+06</td>\n",
              "      <td>2667437.0</td>\n",
              "      <td>2042.813500</td>\n",
              "    </tr>\n",
              "    <tr>\n",
              "      <th>25%</th>\n",
              "      <td>8.069518e+06</td>\n",
              "      <td>2667437.0</td>\n",
              "      <td>2632.498599</td>\n",
              "    </tr>\n",
              "    <tr>\n",
              "      <th>50%</th>\n",
              "      <td>1.556702e+07</td>\n",
              "      <td>2667437.0</td>\n",
              "      <td>4256.000000</td>\n",
              "    </tr>\n",
              "    <tr>\n",
              "      <th>75%</th>\n",
              "      <td>2.308452e+07</td>\n",
              "      <td>2667437.0</td>\n",
              "      <td>5288.248910</td>\n",
              "    </tr>\n",
              "    <tr>\n",
              "      <th>max</th>\n",
              "      <td>3.112202e+07</td>\n",
              "      <td>2667437.0</td>\n",
              "      <td>8147.739600</td>\n",
              "    </tr>\n",
              "  </tbody>\n",
              "</table>\n",
              "</div>"
            ],
            "text/plain": [
              "          Time Date    Product        Value\n",
              "count  1.080000e+03     1080.0  1080.000000\n",
              "mean   1.567207e+07  2667437.0  4048.117478\n",
              "std    8.791548e+06        0.0  1439.945783\n",
              "min    1.012018e+06  2667437.0  2042.813500\n",
              "25%    8.069518e+06  2667437.0  2632.498599\n",
              "50%    1.556702e+07  2667437.0  4256.000000\n",
              "75%    2.308452e+07  2667437.0  5288.248910\n",
              "max    3.112202e+07  2667437.0  8147.739600"
            ]
          },
          "metadata": {},
          "execution_count": 6
        }
      ]
    },
    {
      "cell_type": "code",
      "metadata": {
        "colab": {
          "base_uri": "https://localhost:8080/"
        },
        "id": "yNWknWq-J6VG",
        "outputId": "00c91a58-d1c9-4ce9-80fa-a8c2cbe610de"
      },
      "source": [
        "print('Unique values for Product: {}'.format(df['Product'].unique()))\n",
        "print('Unique values for Store: {}'.format(df['Store'].unique()))\n"
      ],
      "execution_count": 7,
      "outputs": [
        {
          "output_type": "stream",
          "name": "stdout",
          "text": [
            "Unique values for Product: [2667437]\n",
            "Unique values for Store: ['QLD_CW_ST0203']\n"
          ]
        }
      ]
    },
    {
      "cell_type": "code",
      "metadata": {
        "colab": {
          "base_uri": "https://localhost:8080/"
        },
        "id": "T1jrYPq3KJ0P",
        "outputId": "02e8f8b5-672d-4c09-9aa8-7999f1c6a1ff"
      },
      "source": [
        "# x - timedate column\n",
        "# y - value - target value\n",
        "\n",
        "df.dtypes"
      ],
      "execution_count": 8,
      "outputs": [
        {
          "output_type": "execute_result",
          "data": {
            "text/plain": [
              "Time Date      int64\n",
              "Product        int64\n",
              "Store         object\n",
              "Value        float64\n",
              "dtype: object"
            ]
          },
          "metadata": {},
          "execution_count": 8
        }
      ]
    },
    {
      "cell_type": "code",
      "metadata": {
        "id": "G0fBLf2FKStv"
      },
      "source": [
        "# Preprocess time date to datetime\n",
        "\n",
        "df['Year'] = df['Time Date'].apply(lambda x:str(x)[-4:])\n",
        "df['Month'] = df['Time Date'].apply(lambda x:str(x)[-6:-4])\n",
        "df['Day'] = df['Time Date'].apply(lambda x:str(x)[:-6])\n",
        "df['ds'] = pd.DatetimeIndex(df['Year'] + '-' + df['Month'] + '-' + df['Day'])"
      ],
      "execution_count": 9,
      "outputs": []
    },
    {
      "cell_type": "code",
      "metadata": {
        "colab": {
          "base_uri": "https://localhost:8080/",
          "height": 205
        },
        "id": "fB5UUydqKTeJ",
        "outputId": "c82328ad-e769-4875-cd23-1168e4e2d39d"
      },
      "source": [
        "df.head()"
      ],
      "execution_count": 10,
      "outputs": [
        {
          "output_type": "execute_result",
          "data": {
            "text/html": [
              "<div>\n",
              "<style scoped>\n",
              "    .dataframe tbody tr th:only-of-type {\n",
              "        vertical-align: middle;\n",
              "    }\n",
              "\n",
              "    .dataframe tbody tr th {\n",
              "        vertical-align: top;\n",
              "    }\n",
              "\n",
              "    .dataframe thead th {\n",
              "        text-align: right;\n",
              "    }\n",
              "</style>\n",
              "<table border=\"1\" class=\"dataframe\">\n",
              "  <thead>\n",
              "    <tr style=\"text-align: right;\">\n",
              "      <th></th>\n",
              "      <th>Time Date</th>\n",
              "      <th>Product</th>\n",
              "      <th>Store</th>\n",
              "      <th>Value</th>\n",
              "      <th>Year</th>\n",
              "      <th>Month</th>\n",
              "      <th>Day</th>\n",
              "      <th>ds</th>\n",
              "    </tr>\n",
              "  </thead>\n",
              "  <tbody>\n",
              "    <tr>\n",
              "      <th>0</th>\n",
              "      <td>1012018</td>\n",
              "      <td>2667437</td>\n",
              "      <td>QLD_CW_ST0203</td>\n",
              "      <td>2926.000</td>\n",
              "      <td>2018</td>\n",
              "      <td>01</td>\n",
              "      <td>1</td>\n",
              "      <td>2018-01-01</td>\n",
              "    </tr>\n",
              "    <tr>\n",
              "      <th>1</th>\n",
              "      <td>2012018</td>\n",
              "      <td>2667437</td>\n",
              "      <td>QLD_CW_ST0203</td>\n",
              "      <td>2687.531</td>\n",
              "      <td>2018</td>\n",
              "      <td>01</td>\n",
              "      <td>2</td>\n",
              "      <td>2018-01-02</td>\n",
              "    </tr>\n",
              "    <tr>\n",
              "      <th>2</th>\n",
              "      <td>3012018</td>\n",
              "      <td>2667437</td>\n",
              "      <td>QLD_CW_ST0203</td>\n",
              "      <td>2793.000</td>\n",
              "      <td>2018</td>\n",
              "      <td>01</td>\n",
              "      <td>3</td>\n",
              "      <td>2018-01-03</td>\n",
              "    </tr>\n",
              "    <tr>\n",
              "      <th>3</th>\n",
              "      <td>4012018</td>\n",
              "      <td>2667437</td>\n",
              "      <td>QLD_CW_ST0203</td>\n",
              "      <td>2394.000</td>\n",
              "      <td>2018</td>\n",
              "      <td>01</td>\n",
              "      <td>4</td>\n",
              "      <td>2018-01-04</td>\n",
              "    </tr>\n",
              "    <tr>\n",
              "      <th>4</th>\n",
              "      <td>5012018</td>\n",
              "      <td>2667437</td>\n",
              "      <td>QLD_CW_ST0203</td>\n",
              "      <td>2660.000</td>\n",
              "      <td>2018</td>\n",
              "      <td>01</td>\n",
              "      <td>5</td>\n",
              "      <td>2018-01-05</td>\n",
              "    </tr>\n",
              "  </tbody>\n",
              "</table>\n",
              "</div>"
            ],
            "text/plain": [
              "   Time Date  Product          Store     Value  Year Month Day         ds\n",
              "0    1012018  2667437  QLD_CW_ST0203  2926.000  2018    01   1 2018-01-01\n",
              "1    2012018  2667437  QLD_CW_ST0203  2687.531  2018    01   2 2018-01-02\n",
              "2    3012018  2667437  QLD_CW_ST0203  2793.000  2018    01   3 2018-01-03\n",
              "3    4012018  2667437  QLD_CW_ST0203  2394.000  2018    01   4 2018-01-04\n",
              "4    5012018  2667437  QLD_CW_ST0203  2660.000  2018    01   5 2018-01-05"
            ]
          },
          "metadata": {},
          "execution_count": 10
        }
      ]
    },
    {
      "cell_type": "code",
      "metadata": {
        "colab": {
          "base_uri": "https://localhost:8080/",
          "height": 205
        },
        "id": "Z9941iYpNCLO",
        "outputId": "22af86ed-32a6-4d2d-8034-49f9887e708e"
      },
      "source": [
        "df.tail()"
      ],
      "execution_count": 19,
      "outputs": [
        {
          "output_type": "execute_result",
          "data": {
            "text/html": [
              "<div>\n",
              "<style scoped>\n",
              "    .dataframe tbody tr th:only-of-type {\n",
              "        vertical-align: middle;\n",
              "    }\n",
              "\n",
              "    .dataframe tbody tr th {\n",
              "        vertical-align: top;\n",
              "    }\n",
              "\n",
              "    .dataframe thead th {\n",
              "        text-align: right;\n",
              "    }\n",
              "</style>\n",
              "<table border=\"1\" class=\"dataframe\">\n",
              "  <thead>\n",
              "    <tr style=\"text-align: right;\">\n",
              "      <th></th>\n",
              "      <th>y</th>\n",
              "      <th>ds</th>\n",
              "    </tr>\n",
              "  </thead>\n",
              "  <tbody>\n",
              "    <tr>\n",
              "      <th>1075</th>\n",
              "      <td>3167.594500</td>\n",
              "      <td>2020-12-12</td>\n",
              "    </tr>\n",
              "    <tr>\n",
              "      <th>1076</th>\n",
              "      <td>3167.594500</td>\n",
              "      <td>2020-12-13</td>\n",
              "    </tr>\n",
              "    <tr>\n",
              "      <th>1077</th>\n",
              "      <td>3383.354511</td>\n",
              "      <td>2020-12-14</td>\n",
              "    </tr>\n",
              "    <tr>\n",
              "      <th>1078</th>\n",
              "      <td>2714.591329</td>\n",
              "      <td>2020-12-15</td>\n",
              "    </tr>\n",
              "    <tr>\n",
              "      <th>1079</th>\n",
              "      <td>2585.035107</td>\n",
              "      <td>2020-12-16</td>\n",
              "    </tr>\n",
              "  </tbody>\n",
              "</table>\n",
              "</div>"
            ],
            "text/plain": [
              "                y         ds\n",
              "1075  3167.594500 2020-12-12\n",
              "1076  3167.594500 2020-12-13\n",
              "1077  3383.354511 2020-12-14\n",
              "1078  2714.591329 2020-12-15\n",
              "1079  2585.035107 2020-12-16"
            ]
          },
          "metadata": {},
          "execution_count": 19
        }
      ]
    },
    {
      "cell_type": "code",
      "metadata": {
        "colab": {
          "base_uri": "https://localhost:8080/"
        },
        "id": "m9p9DXYzLSA8",
        "outputId": "685ac2f7-8682-443f-b583-77e9f4df70be"
      },
      "source": [
        "df.dtypes"
      ],
      "execution_count": 11,
      "outputs": [
        {
          "output_type": "execute_result",
          "data": {
            "text/plain": [
              "Time Date             int64\n",
              "Product               int64\n",
              "Store                object\n",
              "Value               float64\n",
              "Year                 object\n",
              "Month                object\n",
              "Day                  object\n",
              "ds           datetime64[ns]\n",
              "dtype: object"
            ]
          },
          "metadata": {},
          "execution_count": 11
        }
      ]
    },
    {
      "cell_type": "code",
      "metadata": {
        "id": "BA-e_vAuLdj6"
      },
      "source": [
        "df.drop(['Time Date', 'Product', 'Store', 'Year', 'Month', 'Day'], axis=1, inplace=True)"
      ],
      "execution_count": 12,
      "outputs": []
    },
    {
      "cell_type": "code",
      "metadata": {
        "colab": {
          "base_uri": "https://localhost:8080/",
          "height": 205
        },
        "id": "aHLMAlk5Lw7j",
        "outputId": "d8fe5580-3398-4cdd-8daf-0f00b007ed78"
      },
      "source": [
        "df.columns = ['y', 'ds']\n",
        "df.head()"
      ],
      "execution_count": 16,
      "outputs": [
        {
          "output_type": "execute_result",
          "data": {
            "text/html": [
              "<div>\n",
              "<style scoped>\n",
              "    .dataframe tbody tr th:only-of-type {\n",
              "        vertical-align: middle;\n",
              "    }\n",
              "\n",
              "    .dataframe tbody tr th {\n",
              "        vertical-align: top;\n",
              "    }\n",
              "\n",
              "    .dataframe thead th {\n",
              "        text-align: right;\n",
              "    }\n",
              "</style>\n",
              "<table border=\"1\" class=\"dataframe\">\n",
              "  <thead>\n",
              "    <tr style=\"text-align: right;\">\n",
              "      <th></th>\n",
              "      <th>y</th>\n",
              "      <th>ds</th>\n",
              "    </tr>\n",
              "  </thead>\n",
              "  <tbody>\n",
              "    <tr>\n",
              "      <th>0</th>\n",
              "      <td>2926.000</td>\n",
              "      <td>2018-01-01</td>\n",
              "    </tr>\n",
              "    <tr>\n",
              "      <th>1</th>\n",
              "      <td>2687.531</td>\n",
              "      <td>2018-01-02</td>\n",
              "    </tr>\n",
              "    <tr>\n",
              "      <th>2</th>\n",
              "      <td>2793.000</td>\n",
              "      <td>2018-01-03</td>\n",
              "    </tr>\n",
              "    <tr>\n",
              "      <th>3</th>\n",
              "      <td>2394.000</td>\n",
              "      <td>2018-01-04</td>\n",
              "    </tr>\n",
              "    <tr>\n",
              "      <th>4</th>\n",
              "      <td>2660.000</td>\n",
              "      <td>2018-01-05</td>\n",
              "    </tr>\n",
              "  </tbody>\n",
              "</table>\n",
              "</div>"
            ],
            "text/plain": [
              "          y         ds\n",
              "0  2926.000 2018-01-01\n",
              "1  2687.531 2018-01-02\n",
              "2  2793.000 2018-01-03\n",
              "3  2394.000 2018-01-04\n",
              "4  2660.000 2018-01-05"
            ]
          },
          "metadata": {},
          "execution_count": 16
        }
      ]
    },
    {
      "cell_type": "markdown",
      "metadata": {
        "id": "xfjeDqsKMk3j"
      },
      "source": [
        "2. Train model"
      ]
    },
    {
      "cell_type": "code",
      "metadata": {
        "id": "yFTvGCBoLw90"
      },
      "source": [
        "# Train model using Prophet\n",
        "m = Prophet(interval_width=0.95, daily_seasonality=True)\n",
        "model = m.fit(df)"
      ],
      "execution_count": 17,
      "outputs": []
    },
    {
      "cell_type": "markdown",
      "metadata": {
        "id": "34pbjdrHMm-6"
      },
      "source": [
        "3. Forecast Away - Make Prediction"
      ]
    },
    {
      "cell_type": "code",
      "metadata": {
        "colab": {
          "base_uri": "https://localhost:8080/",
          "height": 312
        },
        "id": "1lXdjPpxMWdp",
        "outputId": "c92930bc-306c-4e4b-d378-1ebde9c019f7"
      },
      "source": [
        "future = m.make_future_dataframe(periods=100, freq='D')\n",
        "forecast = m.predict(future)\n",
        "forecast.head()"
      ],
      "execution_count": 18,
      "outputs": [
        {
          "output_type": "execute_result",
          "data": {
            "text/html": [
              "<div>\n",
              "<style scoped>\n",
              "    .dataframe tbody tr th:only-of-type {\n",
              "        vertical-align: middle;\n",
              "    }\n",
              "\n",
              "    .dataframe tbody tr th {\n",
              "        vertical-align: top;\n",
              "    }\n",
              "\n",
              "    .dataframe thead th {\n",
              "        text-align: right;\n",
              "    }\n",
              "</style>\n",
              "<table border=\"1\" class=\"dataframe\">\n",
              "  <thead>\n",
              "    <tr style=\"text-align: right;\">\n",
              "      <th></th>\n",
              "      <th>ds</th>\n",
              "      <th>trend</th>\n",
              "      <th>yhat_lower</th>\n",
              "      <th>yhat_upper</th>\n",
              "      <th>trend_lower</th>\n",
              "      <th>trend_upper</th>\n",
              "      <th>additive_terms</th>\n",
              "      <th>additive_terms_lower</th>\n",
              "      <th>additive_terms_upper</th>\n",
              "      <th>daily</th>\n",
              "      <th>daily_lower</th>\n",
              "      <th>daily_upper</th>\n",
              "      <th>weekly</th>\n",
              "      <th>weekly_lower</th>\n",
              "      <th>weekly_upper</th>\n",
              "      <th>yearly</th>\n",
              "      <th>yearly_lower</th>\n",
              "      <th>yearly_upper</th>\n",
              "      <th>multiplicative_terms</th>\n",
              "      <th>multiplicative_terms_lower</th>\n",
              "      <th>multiplicative_terms_upper</th>\n",
              "      <th>yhat</th>\n",
              "    </tr>\n",
              "  </thead>\n",
              "  <tbody>\n",
              "    <tr>\n",
              "      <th>0</th>\n",
              "      <td>2018-01-01</td>\n",
              "      <td>3041.650969</td>\n",
              "      <td>764.293789</td>\n",
              "      <td>4003.419782</td>\n",
              "      <td>3041.650969</td>\n",
              "      <td>3041.650969</td>\n",
              "      <td>-640.901196</td>\n",
              "      <td>-640.901196</td>\n",
              "      <td>-640.901196</td>\n",
              "      <td>468.456246</td>\n",
              "      <td>468.456246</td>\n",
              "      <td>468.456246</td>\n",
              "      <td>16.659618</td>\n",
              "      <td>16.659618</td>\n",
              "      <td>16.659618</td>\n",
              "      <td>-1126.017060</td>\n",
              "      <td>-1126.017060</td>\n",
              "      <td>-1126.017060</td>\n",
              "      <td>0.0</td>\n",
              "      <td>0.0</td>\n",
              "      <td>0.0</td>\n",
              "      <td>2400.749773</td>\n",
              "    </tr>\n",
              "    <tr>\n",
              "      <th>1</th>\n",
              "      <td>2018-01-02</td>\n",
              "      <td>3042.411286</td>\n",
              "      <td>734.266351</td>\n",
              "      <td>4004.095878</td>\n",
              "      <td>3042.411286</td>\n",
              "      <td>3042.411286</td>\n",
              "      <td>-651.011594</td>\n",
              "      <td>-651.011594</td>\n",
              "      <td>-651.011594</td>\n",
              "      <td>468.456246</td>\n",
              "      <td>468.456246</td>\n",
              "      <td>468.456246</td>\n",
              "      <td>-11.261861</td>\n",
              "      <td>-11.261861</td>\n",
              "      <td>-11.261861</td>\n",
              "      <td>-1108.205979</td>\n",
              "      <td>-1108.205979</td>\n",
              "      <td>-1108.205979</td>\n",
              "      <td>0.0</td>\n",
              "      <td>0.0</td>\n",
              "      <td>0.0</td>\n",
              "      <td>2391.399692</td>\n",
              "    </tr>\n",
              "    <tr>\n",
              "      <th>2</th>\n",
              "      <td>2018-01-03</td>\n",
              "      <td>3043.171603</td>\n",
              "      <td>805.710300</td>\n",
              "      <td>3984.574525</td>\n",
              "      <td>3043.171603</td>\n",
              "      <td>3043.171603</td>\n",
              "      <td>-625.159988</td>\n",
              "      <td>-625.159988</td>\n",
              "      <td>-625.159988</td>\n",
              "      <td>468.456246</td>\n",
              "      <td>468.456246</td>\n",
              "      <td>468.456246</td>\n",
              "      <td>-4.408938</td>\n",
              "      <td>-4.408938</td>\n",
              "      <td>-4.408938</td>\n",
              "      <td>-1089.207297</td>\n",
              "      <td>-1089.207297</td>\n",
              "      <td>-1089.207297</td>\n",
              "      <td>0.0</td>\n",
              "      <td>0.0</td>\n",
              "      <td>0.0</td>\n",
              "      <td>2418.011616</td>\n",
              "    </tr>\n",
              "    <tr>\n",
              "      <th>3</th>\n",
              "      <td>2018-01-04</td>\n",
              "      <td>3043.931921</td>\n",
              "      <td>834.732235</td>\n",
              "      <td>4086.531121</td>\n",
              "      <td>3043.931921</td>\n",
              "      <td>3043.931921</td>\n",
              "      <td>-578.115568</td>\n",
              "      <td>-578.115568</td>\n",
              "      <td>-578.115568</td>\n",
              "      <td>468.456246</td>\n",
              "      <td>468.456246</td>\n",
              "      <td>468.456246</td>\n",
              "      <td>22.525682</td>\n",
              "      <td>22.525682</td>\n",
              "      <td>22.525682</td>\n",
              "      <td>-1069.097497</td>\n",
              "      <td>-1069.097497</td>\n",
              "      <td>-1069.097497</td>\n",
              "      <td>0.0</td>\n",
              "      <td>0.0</td>\n",
              "      <td>0.0</td>\n",
              "      <td>2465.816352</td>\n",
              "    </tr>\n",
              "    <tr>\n",
              "      <th>4</th>\n",
              "      <td>2018-01-05</td>\n",
              "      <td>3044.692238</td>\n",
              "      <td>994.962442</td>\n",
              "      <td>3921.166848</td>\n",
              "      <td>3044.692238</td>\n",
              "      <td>3044.692238</td>\n",
              "      <td>-614.107141</td>\n",
              "      <td>-614.107141</td>\n",
              "      <td>-614.107141</td>\n",
              "      <td>468.456246</td>\n",
              "      <td>468.456246</td>\n",
              "      <td>468.456246</td>\n",
              "      <td>-34.557511</td>\n",
              "      <td>-34.557511</td>\n",
              "      <td>-34.557511</td>\n",
              "      <td>-1048.005877</td>\n",
              "      <td>-1048.005877</td>\n",
              "      <td>-1048.005877</td>\n",
              "      <td>0.0</td>\n",
              "      <td>0.0</td>\n",
              "      <td>0.0</td>\n",
              "      <td>2430.585097</td>\n",
              "    </tr>\n",
              "  </tbody>\n",
              "</table>\n",
              "</div>"
            ],
            "text/plain": [
              "          ds        trend  ...  multiplicative_terms_upper         yhat\n",
              "0 2018-01-01  3041.650969  ...                         0.0  2400.749773\n",
              "1 2018-01-02  3042.411286  ...                         0.0  2391.399692\n",
              "2 2018-01-03  3043.171603  ...                         0.0  2418.011616\n",
              "3 2018-01-04  3043.931921  ...                         0.0  2465.816352\n",
              "4 2018-01-05  3044.692238  ...                         0.0  2430.585097\n",
              "\n",
              "[5 rows x 22 columns]"
            ]
          },
          "metadata": {},
          "execution_count": 18
        }
      ]
    },
    {
      "cell_type": "code",
      "metadata": {
        "colab": {
          "base_uri": "https://localhost:8080/",
          "height": 312
        },
        "id": "zrdSPr4lMyIQ",
        "outputId": "97e83cfa-3a69-49dc-c8f8-4d3b53514a6f"
      },
      "source": [
        "forecast.tail()"
      ],
      "execution_count": 20,
      "outputs": [
        {
          "output_type": "execute_result",
          "data": {
            "text/html": [
              "<div>\n",
              "<style scoped>\n",
              "    .dataframe tbody tr th:only-of-type {\n",
              "        vertical-align: middle;\n",
              "    }\n",
              "\n",
              "    .dataframe tbody tr th {\n",
              "        vertical-align: top;\n",
              "    }\n",
              "\n",
              "    .dataframe thead th {\n",
              "        text-align: right;\n",
              "    }\n",
              "</style>\n",
              "<table border=\"1\" class=\"dataframe\">\n",
              "  <thead>\n",
              "    <tr style=\"text-align: right;\">\n",
              "      <th></th>\n",
              "      <th>ds</th>\n",
              "      <th>trend</th>\n",
              "      <th>yhat_lower</th>\n",
              "      <th>yhat_upper</th>\n",
              "      <th>trend_lower</th>\n",
              "      <th>trend_upper</th>\n",
              "      <th>additive_terms</th>\n",
              "      <th>additive_terms_lower</th>\n",
              "      <th>additive_terms_upper</th>\n",
              "      <th>daily</th>\n",
              "      <th>daily_lower</th>\n",
              "      <th>daily_upper</th>\n",
              "      <th>weekly</th>\n",
              "      <th>weekly_lower</th>\n",
              "      <th>weekly_upper</th>\n",
              "      <th>yearly</th>\n",
              "      <th>yearly_lower</th>\n",
              "      <th>yearly_upper</th>\n",
              "      <th>multiplicative_terms</th>\n",
              "      <th>multiplicative_terms_lower</th>\n",
              "      <th>multiplicative_terms_upper</th>\n",
              "      <th>yhat</th>\n",
              "    </tr>\n",
              "  </thead>\n",
              "  <tbody>\n",
              "    <tr>\n",
              "      <th>1175</th>\n",
              "      <td>2021-03-22</td>\n",
              "      <td>4241.406743</td>\n",
              "      <td>2117.537170</td>\n",
              "      <td>5184.811746</td>\n",
              "      <td>4237.947781</td>\n",
              "      <td>4244.688408</td>\n",
              "      <td>-513.670394</td>\n",
              "      <td>-513.670394</td>\n",
              "      <td>-513.670394</td>\n",
              "      <td>468.456246</td>\n",
              "      <td>468.456246</td>\n",
              "      <td>468.456246</td>\n",
              "      <td>16.659618</td>\n",
              "      <td>16.659618</td>\n",
              "      <td>16.659618</td>\n",
              "      <td>-998.786258</td>\n",
              "      <td>-998.786258</td>\n",
              "      <td>-998.786258</td>\n",
              "      <td>0.0</td>\n",
              "      <td>0.0</td>\n",
              "      <td>0.0</td>\n",
              "      <td>3727.736349</td>\n",
              "    </tr>\n",
              "    <tr>\n",
              "      <th>1176</th>\n",
              "      <td>2021-03-23</td>\n",
              "      <td>4242.490260</td>\n",
              "      <td>2146.953623</td>\n",
              "      <td>5266.360156</td>\n",
              "      <td>4238.988736</td>\n",
              "      <td>4245.817164</td>\n",
              "      <td>-531.142033</td>\n",
              "      <td>-531.142033</td>\n",
              "      <td>-531.142033</td>\n",
              "      <td>468.456246</td>\n",
              "      <td>468.456246</td>\n",
              "      <td>468.456246</td>\n",
              "      <td>-11.261861</td>\n",
              "      <td>-11.261861</td>\n",
              "      <td>-11.261861</td>\n",
              "      <td>-988.336418</td>\n",
              "      <td>-988.336418</td>\n",
              "      <td>-988.336418</td>\n",
              "      <td>0.0</td>\n",
              "      <td>0.0</td>\n",
              "      <td>0.0</td>\n",
              "      <td>3711.348228</td>\n",
              "    </tr>\n",
              "    <tr>\n",
              "      <th>1177</th>\n",
              "      <td>2021-03-24</td>\n",
              "      <td>4243.573777</td>\n",
              "      <td>2104.729787</td>\n",
              "      <td>5391.215311</td>\n",
              "      <td>4240.027801</td>\n",
              "      <td>4246.945921</td>\n",
              "      <td>-516.617783</td>\n",
              "      <td>-516.617783</td>\n",
              "      <td>-516.617783</td>\n",
              "      <td>468.456246</td>\n",
              "      <td>468.456246</td>\n",
              "      <td>468.456246</td>\n",
              "      <td>-4.408938</td>\n",
              "      <td>-4.408938</td>\n",
              "      <td>-4.408938</td>\n",
              "      <td>-980.665092</td>\n",
              "      <td>-980.665092</td>\n",
              "      <td>-980.665092</td>\n",
              "      <td>0.0</td>\n",
              "      <td>0.0</td>\n",
              "      <td>0.0</td>\n",
              "      <td>3726.955994</td>\n",
              "    </tr>\n",
              "    <tr>\n",
              "      <th>1178</th>\n",
              "      <td>2021-03-25</td>\n",
              "      <td>4244.657294</td>\n",
              "      <td>2116.191627</td>\n",
              "      <td>5317.938297</td>\n",
              "      <td>4241.064266</td>\n",
              "      <td>4248.074677</td>\n",
              "      <td>-485.373705</td>\n",
              "      <td>-485.373705</td>\n",
              "      <td>-485.373705</td>\n",
              "      <td>468.456246</td>\n",
              "      <td>468.456246</td>\n",
              "      <td>468.456246</td>\n",
              "      <td>22.525682</td>\n",
              "      <td>22.525682</td>\n",
              "      <td>22.525682</td>\n",
              "      <td>-976.355633</td>\n",
              "      <td>-976.355633</td>\n",
              "      <td>-976.355633</td>\n",
              "      <td>0.0</td>\n",
              "      <td>0.0</td>\n",
              "      <td>0.0</td>\n",
              "      <td>3759.283589</td>\n",
              "    </tr>\n",
              "    <tr>\n",
              "      <th>1179</th>\n",
              "      <td>2021-03-26</td>\n",
              "      <td>4245.740811</td>\n",
              "      <td>2047.704484</td>\n",
              "      <td>5311.925019</td>\n",
              "      <td>4242.101175</td>\n",
              "      <td>4249.203434</td>\n",
              "      <td>-542.007695</td>\n",
              "      <td>-542.007695</td>\n",
              "      <td>-542.007695</td>\n",
              "      <td>468.456246</td>\n",
              "      <td>468.456246</td>\n",
              "      <td>468.456246</td>\n",
              "      <td>-34.557511</td>\n",
              "      <td>-34.557511</td>\n",
              "      <td>-34.557511</td>\n",
              "      <td>-975.906431</td>\n",
              "      <td>-975.906431</td>\n",
              "      <td>-975.906431</td>\n",
              "      <td>0.0</td>\n",
              "      <td>0.0</td>\n",
              "      <td>0.0</td>\n",
              "      <td>3703.733116</td>\n",
              "    </tr>\n",
              "  </tbody>\n",
              "</table>\n",
              "</div>"
            ],
            "text/plain": [
              "             ds        trend  ...  multiplicative_terms_upper         yhat\n",
              "1175 2021-03-22  4241.406743  ...                         0.0  3727.736349\n",
              "1176 2021-03-23  4242.490260  ...                         0.0  3711.348228\n",
              "1177 2021-03-24  4243.573777  ...                         0.0  3726.955994\n",
              "1178 2021-03-25  4244.657294  ...                         0.0  3759.283589\n",
              "1179 2021-03-26  4245.740811  ...                         0.0  3703.733116\n",
              "\n",
              "[5 rows x 22 columns]"
            ]
          },
          "metadata": {},
          "execution_count": 20
        }
      ]
    },
    {
      "cell_type": "code",
      "metadata": {
        "colab": {
          "base_uri": "https://localhost:8080/",
          "height": 422
        },
        "id": "PNs-nIWONMzd",
        "outputId": "70d7ca68-67fc-4754-fde3-e144c91d400d"
      },
      "source": [
        "# Filter date and predicted forecast column\n",
        "forecast[['ds', 'yhat']]"
      ],
      "execution_count": 21,
      "outputs": [
        {
          "output_type": "execute_result",
          "data": {
            "text/html": [
              "<div>\n",
              "<style scoped>\n",
              "    .dataframe tbody tr th:only-of-type {\n",
              "        vertical-align: middle;\n",
              "    }\n",
              "\n",
              "    .dataframe tbody tr th {\n",
              "        vertical-align: top;\n",
              "    }\n",
              "\n",
              "    .dataframe thead th {\n",
              "        text-align: right;\n",
              "    }\n",
              "</style>\n",
              "<table border=\"1\" class=\"dataframe\">\n",
              "  <thead>\n",
              "    <tr style=\"text-align: right;\">\n",
              "      <th></th>\n",
              "      <th>ds</th>\n",
              "      <th>yhat</th>\n",
              "    </tr>\n",
              "  </thead>\n",
              "  <tbody>\n",
              "    <tr>\n",
              "      <th>0</th>\n",
              "      <td>2018-01-01</td>\n",
              "      <td>2400.749773</td>\n",
              "    </tr>\n",
              "    <tr>\n",
              "      <th>1</th>\n",
              "      <td>2018-01-02</td>\n",
              "      <td>2391.399692</td>\n",
              "    </tr>\n",
              "    <tr>\n",
              "      <th>2</th>\n",
              "      <td>2018-01-03</td>\n",
              "      <td>2418.011616</td>\n",
              "    </tr>\n",
              "    <tr>\n",
              "      <th>3</th>\n",
              "      <td>2018-01-04</td>\n",
              "      <td>2465.816352</td>\n",
              "    </tr>\n",
              "    <tr>\n",
              "      <th>4</th>\n",
              "      <td>2018-01-05</td>\n",
              "      <td>2430.585097</td>\n",
              "    </tr>\n",
              "    <tr>\n",
              "      <th>...</th>\n",
              "      <td>...</td>\n",
              "      <td>...</td>\n",
              "    </tr>\n",
              "    <tr>\n",
              "      <th>1175</th>\n",
              "      <td>2021-03-22</td>\n",
              "      <td>3727.736349</td>\n",
              "    </tr>\n",
              "    <tr>\n",
              "      <th>1176</th>\n",
              "      <td>2021-03-23</td>\n",
              "      <td>3711.348228</td>\n",
              "    </tr>\n",
              "    <tr>\n",
              "      <th>1177</th>\n",
              "      <td>2021-03-24</td>\n",
              "      <td>3726.955994</td>\n",
              "    </tr>\n",
              "    <tr>\n",
              "      <th>1178</th>\n",
              "      <td>2021-03-25</td>\n",
              "      <td>3759.283589</td>\n",
              "    </tr>\n",
              "    <tr>\n",
              "      <th>1179</th>\n",
              "      <td>2021-03-26</td>\n",
              "      <td>3703.733116</td>\n",
              "    </tr>\n",
              "  </tbody>\n",
              "</table>\n",
              "<p>1180 rows × 2 columns</p>\n",
              "</div>"
            ],
            "text/plain": [
              "             ds         yhat\n",
              "0    2018-01-01  2400.749773\n",
              "1    2018-01-02  2391.399692\n",
              "2    2018-01-03  2418.011616\n",
              "3    2018-01-04  2465.816352\n",
              "4    2018-01-05  2430.585097\n",
              "...         ...          ...\n",
              "1175 2021-03-22  3727.736349\n",
              "1176 2021-03-23  3711.348228\n",
              "1177 2021-03-24  3726.955994\n",
              "1178 2021-03-25  3759.283589\n",
              "1179 2021-03-26  3703.733116\n",
              "\n",
              "[1180 rows x 2 columns]"
            ]
          },
          "metadata": {},
          "execution_count": 21
        }
      ]
    },
    {
      "cell_type": "code",
      "metadata": {
        "colab": {
          "base_uri": "https://localhost:8080/",
          "height": 422
        },
        "id": "GYl1o8FBNzhM",
        "outputId": "4d633552-11f4-4db5-9d71-242fb069729e"
      },
      "source": [
        "plot1 = m.plot(forecast)"
      ],
      "execution_count": 22,
      "outputs": [
        {
          "output_type": "display_data",
          "data": {
            "image/png": "[encoded data removed]",
            "text/plain": [
              "<Figure size 720x432 with 1 Axes>"
            ]
          },
          "metadata": {}
        }
      ]
    },
    {
      "cell_type": "code",
      "metadata": {
        "colab": {
          "base_uri": "https://localhost:8080/",
          "height": 873
        },
        "id": "1uWPsRzBN7l9",
        "outputId": "0a3303e0-2dfc-4df9-d3a2-4e473fe41540"
      },
      "source": [
        "# Decomposing forecast dataset\n",
        "plot2 = m.plot_components(forecast)"
      ],
      "execution_count": 23,
      "outputs": [
        {
          "output_type": "display_data",
          "data": {
            "image/png": "[encoded data removed]",
            "text/plain": [
              "<Figure size 648x864 with 4 Axes>"
            ]
          },
          "metadata": {}
        }
      ]
    },
    {
      "cell_type": "code",
      "metadata": {
        "id": "Q4FuzbZGOYTF"
      },
      "source": [
        ""
      ],
      "execution_count": null,
      "outputs": []
    }
  ]
}